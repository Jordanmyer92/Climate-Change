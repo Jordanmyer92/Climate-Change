{
 "cells": [
  {
   "cell_type": "code",
   "execution_count": 1,
   "id": "surprising-heath",
   "metadata": {},
   "outputs": [],
   "source": [
    "import pandas as pd"
   ]
  },
  {
   "cell_type": "code",
   "execution_count": 2,
   "id": "banner-wiring",
   "metadata": {
    "scrolled": true
   },
   "outputs": [],
   "source": [
    "worldbank=\"Data/Worldbankdata.csv\"\n",
    "df = pd.read_csv(worldbank)"
   ]
  },
  {
   "cell_type": "code",
   "execution_count": 3,
   "id": "configured-rotation",
   "metadata": {},
   "outputs": [],
   "source": [
    "df_0 = df.fillna(0)"
   ]
  },
  {
   "cell_type": "code",
   "execution_count": 4,
   "id": "coastal-retro",
   "metadata": {},
   "outputs": [],
   "source": [
    "pop_growth_annual = df_0.loc[df_0[\"Indicator Name\"] == \"Population growth (annual %)\"]\n",
    "\n",
    "#pop_growth_annual\n",
    "\n",
    "# Create a Pandas Excel writer using XlsxWriter as the engine.\n",
    "writer = pd.ExcelWriter(\"pop_growth_annual.xlsx\", engine=\"xlsxwriter\")\n",
    "\n",
    "# Convert the dataframe to an XlsxWriter Excel object.\n",
    "pop_growth_annual.to_excel(writer, sheet_name=\"Sheet1\", index = False)\n",
    "\n",
    "# Close the Pandas Excel writer and output the Excel file.\n",
    "writer.save()"
   ]
  },
  {
   "cell_type": "code",
   "execution_count": 5,
   "id": "upper-cement",
   "metadata": {},
   "outputs": [],
   "source": [
    "floods = df_0.loc[df_0[\"Indicator Name\"] == \"Droughts, floods, extreme temperatures (% of population, average 1990-2009)\"]\n",
    "\n",
    "#floods\n",
    "\n",
    "# Create a Pandas Excel writer using XlsxWriter as the engine.\n",
    "writer = pd.ExcelWriter(\"floods.xlsx\", engine=\"xlsxwriter\")\n",
    "\n",
    "# Convert the dataframe to an XlsxWriter Excel object.\n",
    "floods.to_excel(writer, sheet_name=\"Sheet1\", index = False)\n",
    "\n",
    "# Close the Pandas Excel writer and output the Excel file.\n",
    "writer.save()"
   ]
  },
  {
   "cell_type": "code",
   "execution_count": 6,
   "id": "parallel-occurrence",
   "metadata": {},
   "outputs": [],
   "source": [
    "nitrous = df_0.loc[df_0[\"Indicator Name\"] == \"Nitrous oxide emissions (% change from 1990)\"]\n",
    "\n",
    "#nitrous\n",
    "\n",
    "# Create a Pandas Excel writer using XlsxWriter as the engine.\n",
    "writer = pd.ExcelWriter(\"nitrous.xlsx\", engine=\"xlsxwriter\")\n",
    "\n",
    "# Convert the dataframe to an XlsxWriter Excel object.\n",
    "nitrous.to_excel(writer, sheet_name=\"Sheet1\", index = False)\n",
    "\n",
    "# Close the Pandas Excel writer and output the Excel file.\n",
    "writer.save()"
   ]
  },
  {
   "cell_type": "code",
   "execution_count": 7,
   "id": "radical-hebrew",
   "metadata": {},
   "outputs": [],
   "source": [
    "methane = df_0.loc[df_0[\"Indicator Name\"] == \"Methane emissions (% change from 1990)\"]\n",
    "\n",
    "#methane\n",
    "\n",
    "# Create a Pandas Excel writer using XlsxWriter as the engine.\n",
    "writer = pd.ExcelWriter(\"methane.xlsx\", engine=\"xlsxwriter\")\n",
    "\n",
    "# Convert the dataframe to an XlsxWriter Excel object.\n",
    "methane.to_excel(writer, sheet_name=\"Sheet1\", index = False)\n",
    "\n",
    "# Close the Pandas Excel writer and output the Excel file.\n",
    "writer.save()"
   ]
  },
  {
   "cell_type": "code",
   "execution_count": 8,
   "id": "alpha-expert",
   "metadata": {},
   "outputs": [],
   "source": [
    "total_greenhouse_gas = df_0.loc[df_0[\"Indicator Name\"] == \"Total greenhouse gas emissions (% change from 1990)\"]\n",
    "\n",
    "#total_greenhouse_gas\n",
    "\n",
    "# Create a Pandas Excel writer using XlsxWriter as the engine.\n",
    "writer = pd.ExcelWriter(\"total_greenhouse_gas.xlsx\", engine=\"xlsxwriter\")\n",
    "\n",
    "# Convert the dataframe to an XlsxWriter Excel object.\n",
    "total_greenhouse_gas.to_excel(writer, sheet_name=\"Sheet1\", index = False)\n",
    "\n",
    "# Close the Pandas Excel writer and output the Excel file.\n",
    "writer.save()"
   ]
  },
  {
   "cell_type": "code",
   "execution_count": 10,
   "id": "acute-happiness",
   "metadata": {},
   "outputs": [],
   "source": [
    "other_greenhouse_gas = df_0.loc[df_0[\"Indicator Name\"] == \"Other greenhouse gas emissions (% change from 1990)\"]\n",
    "\n",
    "#other_greenhouse_gas\n",
    "\n",
    "# Create a Pandas Excel writer using XlsxWriter as the engine.\n",
    "writer = pd.ExcelWriter(\"other_greenhouse_gas.xlsx\", engine=\"xlsxwriter\")\n",
    "\n",
    "# Convert the dataframe to an XlsxWriter Excel object.\n",
    "other_greenhouse_gas.to_excel(writer, sheet_name=\"Sheet1\", index = False)\n",
    "\n",
    "# Close the Pandas Excel writer and output the Excel file.\n",
    "writer.save()"
   ]
  },
  {
   "cell_type": "code",
   "execution_count": 11,
   "id": "capable-bloom",
   "metadata": {},
   "outputs": [],
   "source": [
    "c02_solid = df_0.loc[df_0[\"Indicator Name\"] == \"CO2 emissions from solid fuel consumption (% of total)\"]\n",
    "\n",
    "#c02_solid\n",
    "\n",
    "# Create a Pandas Excel writer using XlsxWriter as the engine.\n",
    "writer = pd.ExcelWriter(\"c02_solid.xlsx\", engine=\"xlsxwriter\")\n",
    "\n",
    "# Convert the dataframe to an XlsxWriter Excel object.\n",
    "c02_solid.to_excel(writer, sheet_name=\"Sheet1\", index = False)\n",
    "\n",
    "# Close the Pandas Excel writer and output the Excel file.\n",
    "writer.save()"
   ]
  },
  {
   "cell_type": "code",
   "execution_count": 12,
   "id": "integrated-filter",
   "metadata": {},
   "outputs": [],
   "source": [
    "c02_liquid = df_0.loc[df_0[\"Indicator Name\"] == \"CO2 emissions from liquid fuel consumption (% of total)\"]\n",
    "\n",
    "#c02_liquid\n",
    "\n",
    "# Create a Pandas Excel writer using XlsxWriter as the engine.\n",
    "writer = pd.ExcelWriter(\"c02_liquid.xlsx\", engine=\"xlsxwriter\")\n",
    "\n",
    "# Convert the dataframe to an XlsxWriter Excel object.\n",
    "c02_liquid.to_excel(writer, sheet_name=\"Sheet1\", index = False)\n",
    "\n",
    "# Close the Pandas Excel writer and output the Excel file.\n",
    "writer.save()"
   ]
  },
  {
   "cell_type": "code",
   "execution_count": 13,
   "id": "chemical-carbon",
   "metadata": {},
   "outputs": [],
   "source": [
    "c02_gas = df_0.loc[df_0[\"Indicator Name\"] == \"CO2 emissions from gaseous fuel consumption (% of total)\"]\n",
    "\n",
    "#c02_gas\n",
    "\n",
    "# Create a Pandas Excel writer using XlsxWriter as the engine.\n",
    "writer = pd.ExcelWriter(\"c02_gas.xlsx\", engine=\"xlsxwriter\")\n",
    "\n",
    "# Convert the dataframe to an XlsxWriter Excel object.\n",
    "c02_gas.to_excel(writer, sheet_name=\"Sheet1\", index = False)\n",
    "\n",
    "# Close the Pandas Excel writer and output the Excel file.\n",
    "writer.save()"
   ]
  },
  {
   "cell_type": "code",
   "execution_count": 14,
   "id": "breathing-glossary",
   "metadata": {},
   "outputs": [],
   "source": [
    "renewable_energy = df_0.loc[df_0[\"Indicator Name\"] == \"Renewable energy consumption (% of total final energy consumption)\"]\n",
    "\n",
    "#renewable_energy\n",
    "\n",
    "# Create a Pandas Excel writer using XlsxWriter as the engine.\n",
    "writer = pd.ExcelWriter(\"renewable_energy.xlsx\", engine=\"xlsxwriter\")\n",
    "\n",
    "# Convert the dataframe to an XlsxWriter Excel object.\n",
    "renewable_energy.to_excel(writer, sheet_name=\"Sheet1\", index = False)\n",
    "\n",
    "# Close the Pandas Excel writer and output the Excel file.\n",
    "writer.save()"
   ]
  },
  {
   "cell_type": "code",
   "execution_count": 15,
   "id": "grave-chart",
   "metadata": {},
   "outputs": [],
   "source": [
    "electric_oil = df_0.loc[df_0[\"Indicator Name\"] == \"Electricity production from oil sources (% of total)\"]\n",
    "\n",
    "#electric_oil\n",
    "\n",
    "# Create a Pandas Excel writer using XlsxWriter as the engine.\n",
    "writer = pd.ExcelWriter(\"electric_oil.xlsx\", engine=\"xlsxwriter\")\n",
    "\n",
    "# Convert the dataframe to an XlsxWriter Excel object.\n",
    "electric_oil.to_excel(writer, sheet_name=\"Sheet1\", index = False)\n",
    "\n",
    "# Close the Pandas Excel writer and output the Excel file.\n",
    "writer.save()"
   ]
  },
  {
   "cell_type": "code",
   "execution_count": 16,
   "id": "confident-positive",
   "metadata": {},
   "outputs": [],
   "source": [
    "electric_coal = df_0.loc[df_0[\"Indicator Name\"] == \"Electricity production from coal sources (% of total)\"]\n",
    "\n",
    "#electric_coal\n",
    "\n",
    "# Create a Pandas Excel writer using XlsxWriter as the engine.\n",
    "writer = pd.ExcelWriter(\"electric_coal.xlsx\", engine=\"xlsxwriter\")\n",
    "\n",
    "# Convert the dataframe to an XlsxWriter Excel object.\n",
    "electric_coal.to_excel(writer, sheet_name=\"Sheet1\", index = False)\n",
    "\n",
    "# Close the Pandas Excel writer and output the Excel file.\n",
    "writer.save()"
   ]
  },
  {
   "cell_type": "code",
   "execution_count": 17,
   "id": "official-accused",
   "metadata": {},
   "outputs": [],
   "source": [
    "access_electric = df_0.loc[df_0[\"Indicator Name\"] == \"Access to electricity (% of population)\"]\n",
    "\n",
    "#access_electric\n",
    "\n",
    "# Create a Pandas Excel writer using XlsxWriter as the engine.\n",
    "writer = pd.ExcelWriter(\"access_electric.xlsx\", engine=\"xlsxwriter\")\n",
    "\n",
    "# Convert the dataframe to an XlsxWriter Excel object.\n",
    "access_electric.to_excel(writer, sheet_name=\"Sheet1\", index = False)\n",
    "\n",
    "# Close the Pandas Excel writer and output the Excel file.\n",
    "writer.save()"
   ]
  },
  {
   "cell_type": "code",
   "execution_count": 18,
   "id": "banned-candy",
   "metadata": {},
   "outputs": [],
   "source": [
    "forest_area = df_0.loc[df_0[\"Indicator Name\"] == \"Forest area (% of land area)\"]\n",
    "\n",
    "#forest_area\n",
    "\n",
    "# Create a Pandas Excel writer using XlsxWriter as the engine.\n",
    "writer = pd.ExcelWriter(\"forest_area.xlsx\", engine=\"xlsxwriter\")\n",
    "\n",
    "# Convert the dataframe to an XlsxWriter Excel object.\n",
    "forest_area.to_excel(writer, sheet_name=\"Sheet1\", index = False)\n",
    "\n",
    "# Close the Pandas Excel writer and output the Excel file.\n",
    "writer.save()"
   ]
  },
  {
   "cell_type": "code",
   "execution_count": 19,
   "id": "pursuant-caution",
   "metadata": {},
   "outputs": [],
   "source": [
    "arable_land = df_0.loc[df_0[\"Indicator Name\"] == \"Arable land (% of land area)\"]\n",
    "\n",
    "#arable_land\n",
    "\n",
    "# Create a Pandas Excel writer using XlsxWriter as the engine.\n",
    "writer = pd.ExcelWriter(\"arable_land.xlsx\", engine=\"xlsxwriter\")\n",
    "\n",
    "# Convert the dataframe to an XlsxWriter Excel object.\n",
    "arable_land.to_excel(writer, sheet_name=\"Sheet1\", index = False)\n",
    "\n",
    "# Close the Pandas Excel writer and output the Excel file.\n",
    "writer.save()"
   ]
  },
  {
   "cell_type": "code",
   "execution_count": 21,
   "id": "experimental-africa",
   "metadata": {},
   "outputs": [],
   "source": [
    "ag_land = df_0.loc[df_0[\"Indicator Name\"] == \"Agricultural land (% of land area)\"]\n",
    "\n",
    "#ag_land\n",
    "\n",
    "# Create a Pandas Excel writer using XlsxWriter as the engine.\n",
    "writer = pd.ExcelWriter(\"ag_land.xlsx\", engine=\"xlsxwriter\")\n",
    "\n",
    "# Convert the dataframe to an XlsxWriter Excel object.\n",
    "ag_land.to_excel(writer, sheet_name=\"Sheet1\", index = False)\n",
    "\n",
    "# Close the Pandas Excel writer and output the Excel file.\n",
    "writer.save()"
   ]
  },
  {
   "cell_type": "code",
   "execution_count": null,
   "id": "honest-cancer",
   "metadata": {},
   "outputs": [],
   "source": []
  }
 ],
 "metadata": {
  "kernelspec": {
   "display_name": "Python 3",
   "language": "python",
   "name": "python3"
  },
  "language_info": {
   "codemirror_mode": {
    "name": "ipython",
    "version": 3
   },
   "file_extension": ".py",
   "mimetype": "text/x-python",
   "name": "python",
   "nbconvert_exporter": "python",
   "pygments_lexer": "ipython3",
   "version": "3.6.12"
  }
 },
 "nbformat": 4,
 "nbformat_minor": 5
}
